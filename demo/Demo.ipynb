{
 "cells": [
  {
   "cell_type": "code",
   "execution_count": 9,
   "id": "2831d181",
   "metadata": {},
   "outputs": [
    {
     "name": "stderr",
     "output_type": "stream",
     "text": [
      "\u001b[32m\u001b[1m  Activating\u001b[22m\u001b[39m project at `C:\\Users\\fsmart\\OneDrive - Censeo Consulting Group\\Documents\\GitHub\\SoftDates.jl`\n"
     ]
    }
   ],
   "source": [
    "# Activate the packages virtual environment\n",
    "using Pkg\n",
    "Pkg.activate(\"../\")"
   ]
  },
  {
   "cell_type": "code",
   "execution_count": 10,
   "id": "62fcfd33",
   "metadata": {
    "scrolled": true
   },
   "outputs": [
    {
     "name": "stderr",
     "output_type": "stream",
     "text": [
      "\u001b[32m\u001b[1mPrecompiling\u001b[22m\u001b[39m project...\n",
      "\u001b[32m  ✓ \u001b[39mSoftDates\n",
      "  1 dependency successfully precompiled in 5 seconds (64 already precompiled)\n"
     ]
    }
   ],
   "source": [
    "# This will have to be done after a new install\n",
    "Pkg.instantiate()"
   ]
  },
  {
   "cell_type": "code",
   "execution_count": 11,
   "id": "3c73106c",
   "metadata": {},
   "outputs": [
    {
     "name": "stderr",
     "output_type": "stream",
     "text": [
      "WARNING: replacing module BlockDates.\n",
      "WARNING: ignoring conflicting import of BlockDates.blockdate into Main\n"
     ]
    }
   ],
   "source": [
    "include(\"../src/BlockDates.jl\")\n",
    "# if missing a required package install with \n",
    "# Pkg.add(\"packageName\")\n",
    "\n",
    "# Load Packages\n",
    "using Main.BlockDates, Dates, DataFrames, CSV\n",
    "using Main.BlockDates: blockdate"
   ]
  },
  {
   "cell_type": "code",
   "execution_count": 12,
   "id": "ccae2343",
   "metadata": {
    "scrolled": false
   },
   "outputs": [
    {
     "data": {
      "text/html": [
       "<div class=\"data-frame\"><p>5 rows × 4 columns</p><table class=\"data-frame\"><thead><tr><th></th><th>id</th><th>startDate</th><th>endDate</th><th>text remark</th></tr><tr><th></th><th title=\"Union{Missing, Int64}\">Int64?</th><th title=\"String15\">String15</th><th title=\"String15\">String15</th><th title=\"String\">String</th></tr></thead><tbody><tr><th>1</th><td>1</td><td>8/22/2021</td><td>8/28/2021</td><td>08/22/2021 through 08/28/2021 - Eget egestas purus viverra accumsan in nisl. </td></tr><tr><th>2</th><td>2</td><td>9/5/2021</td><td>9/11/2021</td><td>9/05/2021 - Lorem ipsum dolor sit amet, consectetur adipiscing elit, sed do eiusmod tempor incididunt ut labore et dolore magna aliqua. \\n9/06/2021 - Fermentum posuere urna nec tincidunt praesent.\\n9/07/2021 - Convallis a cras semper auctor neque vitae.\\n9/08/2021 - Porttitor lacus luctus accumsan tortor posuere.\\n9/09/2021 - Tristique senectus et netus et.\\n9/10/2021 - Porttitor rhoncus dolor purus non.\\n9/11/2021 - Tristique senectus et netus et malesuada fames.</td></tr><tr><th>3</th><td>3</td><td>8/1/2021</td><td>8/7/2021</td><td>08/01/2021 through 08/07/2021 - Bibendum neque egestas congue quisque egestas.</td></tr><tr><th>4</th><td>4</td><td>1/31/2021</td><td>2/6/2021</td><td>1/31/21\\nPretium viverra suspendisse potenti nullam.\\n2/01/21\\nNibh tortor id aliquet lectus proin nibh.\\n \\n2/02/21\\nEu consequat ac felis donec et odio pellentesque.\\n2/03/21\\nRisus nullam eget felis eget nunc lobortis mattis aliquam faucibus.\\n2/04/21\\nRisus viverra adipiscing at in tellus integer feugiat scelerisque varius.\\n2/05/21\\nAmet facilisis magna etiam tempor orci eu lobortis elementum.\\n2/06/21\\nTellus mauris a diam maecenas sed enim ut sem viverra.</td></tr><tr><th>5</th><td>5</td><td>12/12/2021</td><td>12/18/2021</td><td>12/12/2021 - Morbi quis commodo odio aenean sed adipiscing.\\n12/13/2021 - Elementum eu facilisis sed odio morbi.\\n12/14/2021 - At auctor urna nunc id cursus metus aliquam eleifend.\\n12/15/2021 - Amet nulla facilisi morbi tempus iaculis urna id volutpat lacus.\\n12/16/2021 - Sem fringilla ut morbi tincidunt augue interdum velit euismod in.\\n12/17/2021 - Pharetra diam sit amet nisl suscipit adipiscing bibendum est ultricies.\\n12/18/2021 - Ultricies mi eget mauris pharetra et ultrices neque ornare aenean.</td></tr></tbody></table></div>"
      ],
      "text/latex": [
       "\\begin{tabular}{r|cccc}\n",
       "\t& id & startDate & endDate & text remark\\\\\n",
       "\t\\hline\n",
       "\t& Int64? & String15 & String15 & String\\\\\n",
       "\t\\hline\n",
       "\t1 & 1 & 8/22/2021 & 8/28/2021 & 08/22/2021 through 08/28/2021 - Eget egestas purus viverra accumsan in nisl.  \\\\\n",
       "\t2 & 2 & 9/5/2021 & 9/11/2021 & 9/05/2021 - Lorem ipsum dolor sit amet, consectetur adipiscing elit, sed do eiusmod tempor incididunt ut labore et dolore magna aliqua. \\textbackslash{}n9/06/2021 - Fermentum posuere urna nec tincidunt praesent.\\textbackslash{}n9/07/2021 - Convallis a cras semper auctor neque vitae.\\textbackslash{}n9/08/2021 - Porttitor lacus luctus accumsan tortor posuere.\\textbackslash{}n9/09/2021 - Tristique senectus et netus et.\\textbackslash{}n9/10/2021 - Porttitor rhoncus dolor purus non.\\textbackslash{}n9/11/2021 - Tristique senectus et netus et malesuada fames. \\\\\n",
       "\t3 & 3 & 8/1/2021 & 8/7/2021 & 08/01/2021 through 08/07/2021 - Bibendum neque egestas congue quisque egestas. \\\\\n",
       "\t4 & 4 & 1/31/2021 & 2/6/2021 & 1/31/21\\textbackslash{}nPretium viverra suspendisse potenti nullam.\\textbackslash{}n2/01/21\\textbackslash{}nNibh tortor id aliquet lectus proin nibh.\\textbackslash{}n \\textbackslash{}n2/02/21\\textbackslash{}nEu consequat ac felis donec et odio pellentesque.\\textbackslash{}n2/03/21\\textbackslash{}nRisus nullam eget felis eget nunc lobortis mattis aliquam faucibus.\\textbackslash{}n2/04/21\\textbackslash{}nRisus viverra adipiscing at in tellus integer feugiat scelerisque varius.\\textbackslash{}n2/05/21\\textbackslash{}nAmet facilisis magna etiam tempor orci eu lobortis elementum.\\textbackslash{}n2/06/21\\textbackslash{}nTellus mauris a diam maecenas sed enim ut sem viverra. \\\\\n",
       "\t5 & 5 & 12/12/2021 & 12/18/2021 & 12/12/2021 - Morbi quis commodo odio aenean sed adipiscing.\\textbackslash{}n12/13/2021 - Elementum eu facilisis sed odio morbi.\\textbackslash{}n12/14/2021 - At auctor urna nunc id cursus metus aliquam eleifend.\\textbackslash{}n12/15/2021 - Amet nulla facilisi morbi tempus iaculis urna id volutpat lacus.\\textbackslash{}n12/16/2021 - Sem fringilla ut morbi tincidunt augue interdum velit euismod in.\\textbackslash{}n12/17/2021 - Pharetra diam sit amet nisl suscipit adipiscing bibendum est ultricies.\\textbackslash{}n12/18/2021 - Ultricies mi eget mauris pharetra et ultrices neque ornare aenean. \\\\\n",
       "\\end{tabular}\n"
      ],
      "text/plain": [
       "\u001b[1m5×4 DataFrame\u001b[0m\n",
       "\u001b[1m Row \u001b[0m│\u001b[1m id     \u001b[0m\u001b[1m startDate  \u001b[0m\u001b[1m endDate    \u001b[0m\u001b[1m text remark                       \u001b[0m\n",
       "\u001b[1m     \u001b[0m│\u001b[90m Int64? \u001b[0m\u001b[90m String15   \u001b[0m\u001b[90m String15   \u001b[0m\u001b[90m String                            \u001b[0m\n",
       "─────┼───────────────────────────────────────────────────────────────────\n",
       "   1 │      1  8/22/2021   8/28/2021   08/22/2021 through 08/28/2021 - …\n",
       "   2 │      2  9/5/2021    9/11/2021   9/05/2021 - Lorem ipsum dolor si…\n",
       "   3 │      3  8/1/2021    8/7/2021    08/01/2021 through 08/07/2021 - …\n",
       "   4 │      4  1/31/2021   2/6/2021    1/31/21\\nPretium viverra suspend…\n",
       "   5 │      5  12/12/2021  12/18/2021  12/12/2021 - Morbi quis commodo …"
      ]
     },
     "execution_count": 12,
     "metadata": {},
     "output_type": "execute_result"
    }
   ],
   "source": [
    "# Read CSV file as DataFrame\n",
    "inDF = CSV.read(\"data.csv\", DataFrame)\n",
    "first(inDF,5)"
   ]
  },
  {
   "cell_type": "markdown",
   "id": "420718a9",
   "metadata": {},
   "source": [
    "**Convert String Dates to Date format dates**"
   ]
  },
  {
   "cell_type": "code",
   "execution_count": 13,
   "id": "91f6f561",
   "metadata": {
    "scrolled": true
   },
   "outputs": [
    {
     "data": {
      "text/html": [
       "<div class=\"data-frame\"><p>5 rows × 4 columns</p><table class=\"data-frame\"><thead><tr><th></th><th>id</th><th>startDate</th><th>endDate</th><th>text remark</th></tr><tr><th></th><th title=\"Union{Missing, Int64}\">Int64?</th><th title=\"Date\">Date</th><th title=\"Date\">Date</th><th title=\"String\">String</th></tr></thead><tbody><tr><th>1</th><td>1</td><td>2021-08-22</td><td>2021-08-28</td><td>08/22/2021 through 08/28/2021 - Eget egestas purus viverra accumsan in nisl. </td></tr><tr><th>2</th><td>2</td><td>2021-09-05</td><td>2021-09-11</td><td>9/05/2021 - Lorem ipsum dolor sit amet, consectetur adipiscing elit, sed do eiusmod tempor incididunt ut labore et dolore magna aliqua. \\n9/06/2021 - Fermentum posuere urna nec tincidunt praesent.\\n9/07/2021 - Convallis a cras semper auctor neque vitae.\\n9/08/2021 - Porttitor lacus luctus accumsan tortor posuere.\\n9/09/2021 - Tristique senectus et netus et.\\n9/10/2021 - Porttitor rhoncus dolor purus non.\\n9/11/2021 - Tristique senectus et netus et malesuada fames.</td></tr><tr><th>3</th><td>3</td><td>2021-08-01</td><td>2021-08-07</td><td>08/01/2021 through 08/07/2021 - Bibendum neque egestas congue quisque egestas.</td></tr><tr><th>4</th><td>4</td><td>2021-01-31</td><td>2021-02-06</td><td>1/31/21\\nPretium viverra suspendisse potenti nullam.\\n2/01/21\\nNibh tortor id aliquet lectus proin nibh.\\n \\n2/02/21\\nEu consequat ac felis donec et odio pellentesque.\\n2/03/21\\nRisus nullam eget felis eget nunc lobortis mattis aliquam faucibus.\\n2/04/21\\nRisus viverra adipiscing at in tellus integer feugiat scelerisque varius.\\n2/05/21\\nAmet facilisis magna etiam tempor orci eu lobortis elementum.\\n2/06/21\\nTellus mauris a diam maecenas sed enim ut sem viverra.</td></tr><tr><th>5</th><td>5</td><td>2021-12-12</td><td>2021-12-18</td><td>12/12/2021 - Morbi quis commodo odio aenean sed adipiscing.\\n12/13/2021 - Elementum eu facilisis sed odio morbi.\\n12/14/2021 - At auctor urna nunc id cursus metus aliquam eleifend.\\n12/15/2021 - Amet nulla facilisi morbi tempus iaculis urna id volutpat lacus.\\n12/16/2021 - Sem fringilla ut morbi tincidunt augue interdum velit euismod in.\\n12/17/2021 - Pharetra diam sit amet nisl suscipit adipiscing bibendum est ultricies.\\n12/18/2021 - Ultricies mi eget mauris pharetra et ultrices neque ornare aenean.</td></tr></tbody></table></div>"
      ],
      "text/latex": [
       "\\begin{tabular}{r|cccc}\n",
       "\t& id & startDate & endDate & text remark\\\\\n",
       "\t\\hline\n",
       "\t& Int64? & Date & Date & String\\\\\n",
       "\t\\hline\n",
       "\t1 & 1 & 2021-08-22 & 2021-08-28 & 08/22/2021 through 08/28/2021 - Eget egestas purus viverra accumsan in nisl.  \\\\\n",
       "\t2 & 2 & 2021-09-05 & 2021-09-11 & 9/05/2021 - Lorem ipsum dolor sit amet, consectetur adipiscing elit, sed do eiusmod tempor incididunt ut labore et dolore magna aliqua. \\textbackslash{}n9/06/2021 - Fermentum posuere urna nec tincidunt praesent.\\textbackslash{}n9/07/2021 - Convallis a cras semper auctor neque vitae.\\textbackslash{}n9/08/2021 - Porttitor lacus luctus accumsan tortor posuere.\\textbackslash{}n9/09/2021 - Tristique senectus et netus et.\\textbackslash{}n9/10/2021 - Porttitor rhoncus dolor purus non.\\textbackslash{}n9/11/2021 - Tristique senectus et netus et malesuada fames. \\\\\n",
       "\t3 & 3 & 2021-08-01 & 2021-08-07 & 08/01/2021 through 08/07/2021 - Bibendum neque egestas congue quisque egestas. \\\\\n",
       "\t4 & 4 & 2021-01-31 & 2021-02-06 & 1/31/21\\textbackslash{}nPretium viverra suspendisse potenti nullam.\\textbackslash{}n2/01/21\\textbackslash{}nNibh tortor id aliquet lectus proin nibh.\\textbackslash{}n \\textbackslash{}n2/02/21\\textbackslash{}nEu consequat ac felis donec et odio pellentesque.\\textbackslash{}n2/03/21\\textbackslash{}nRisus nullam eget felis eget nunc lobortis mattis aliquam faucibus.\\textbackslash{}n2/04/21\\textbackslash{}nRisus viverra adipiscing at in tellus integer feugiat scelerisque varius.\\textbackslash{}n2/05/21\\textbackslash{}nAmet facilisis magna etiam tempor orci eu lobortis elementum.\\textbackslash{}n2/06/21\\textbackslash{}nTellus mauris a diam maecenas sed enim ut sem viverra. \\\\\n",
       "\t5 & 5 & 2021-12-12 & 2021-12-18 & 12/12/2021 - Morbi quis commodo odio aenean sed adipiscing.\\textbackslash{}n12/13/2021 - Elementum eu facilisis sed odio morbi.\\textbackslash{}n12/14/2021 - At auctor urna nunc id cursus metus aliquam eleifend.\\textbackslash{}n12/15/2021 - Amet nulla facilisi morbi tempus iaculis urna id volutpat lacus.\\textbackslash{}n12/16/2021 - Sem fringilla ut morbi tincidunt augue interdum velit euismod in.\\textbackslash{}n12/17/2021 - Pharetra diam sit amet nisl suscipit adipiscing bibendum est ultricies.\\textbackslash{}n12/18/2021 - Ultricies mi eget mauris pharetra et ultrices neque ornare aenean. \\\\\n",
       "\\end{tabular}\n"
      ],
      "text/plain": [
       "\u001b[1m5×4 DataFrame\u001b[0m\n",
       "\u001b[1m Row \u001b[0m│\u001b[1m id     \u001b[0m\u001b[1m startDate  \u001b[0m\u001b[1m endDate    \u001b[0m\u001b[1m text remark                       \u001b[0m\n",
       "\u001b[1m     \u001b[0m│\u001b[90m Int64? \u001b[0m\u001b[90m Date       \u001b[0m\u001b[90m Date       \u001b[0m\u001b[90m String                            \u001b[0m\n",
       "─────┼───────────────────────────────────────────────────────────────────\n",
       "   1 │      1  2021-08-22  2021-08-28  08/22/2021 through 08/28/2021 - …\n",
       "   2 │      2  2021-09-05  2021-09-11  9/05/2021 - Lorem ipsum dolor si…\n",
       "   3 │      3  2021-08-01  2021-08-07  08/01/2021 through 08/07/2021 - …\n",
       "   4 │      4  2021-01-31  2021-02-06  1/31/21\\nPretium viverra suspend…\n",
       "   5 │      5  2021-12-12  2021-12-18  12/12/2021 - Morbi quis commodo …"
      ]
     },
     "execution_count": 13,
     "metadata": {},
     "output_type": "execute_result"
    }
   ],
   "source": [
    "inDF[!, \"startDate\"] = [Date(v, dateformat\"mm/dd/yy\") for v in inDF[:, \"startDate\"]]\n",
    "inDF[!, \"endDate\"  ] = [Date(v, dateformat\"mm/dd/yy\") for v in inDF[:, \"endDate\"  ]]\n",
    "\n",
    "first(inDF, 5)"
   ]
  },
  {
   "cell_type": "code",
   "execution_count": 14,
   "id": "a2b51c97",
   "metadata": {
    "scrolled": true
   },
   "outputs": [
    {
     "name": "stdout",
     "output_type": "stream",
     "text": [
      "1. 7 rows score 5.0\n",
      "2. 7 rows score 5.0\n",
      "3. 7 rows score 5.0\n",
      "4. 7 rows score 4.0\n",
      "5. 7 rows score 5.0\n",
      "6. 7 rows score 5.0\n",
      "7. 7 rows score 5.0\n",
      "8. 1 rows score 5.0\n",
      "9. 7 rows score 5.0\n",
      "10. 7 rows score 3.0\n",
      "11. 7 rows score 5.0\n",
      "12. 7 rows score 3.3\n",
      "13. 7 rows score 5.0\n",
      "14. 7 rows score 5.0\n",
      "15. 1 rows score -5.0\n",
      "16. 4 rows score 5.0\n",
      "17. 7 rows score 2.0\n",
      "18. 7 rows score 5.0\n",
      "19. 7 rows score 5.0\n",
      "20. 7 rows score 3.7\n",
      "21. 6 rows score 5.0\n",
      "22. 7 rows score 5.0\n",
      "23. 5 rows score 4.0\n",
      "24. 7 rows score 5.0\n",
      "25. 7 rows score 5.0\n",
      "26. 7 rows score 5.0\n",
      "27. 6 rows score 5.0\n",
      "28. 7 rows score 5.0\n",
      "29. 7 rows score 5.0\n",
      "30. 7 rows score 5.0\n",
      "31. 4 rows score 5.0\n",
      "32. 7 rows score 5.3\n",
      "33. 4 rows score 5.0\n",
      "34. 7 rows score 4.0\n",
      "35. 7 rows score 5.0\n",
      "36. 6 rows score 4.0\n",
      "37. 1 rows score 5.0\n",
      "38. 2 rows score 4.0\n",
      "39. 7 rows score 5.0\n",
      "40. 7 rows score 5.0\n",
      "41. 7 rows score 5.0\n",
      "42. 7 rows score 5.0\n",
      "43. 1 rows score 5.0\n",
      "44. 7 rows score 5.0\n",
      "45. 7 rows score 5.0\n",
      "46. 7 rows score 5.0\n",
      "47. 7 rows score 3.7\n",
      "48. 5 rows score 5.0\n",
      "49. 7 rows score 4.0\n",
      "50. 7 rows score 4.0\n",
      "51. 7 rows score 5.0\n",
      "52. 7 rows score 3.1\n",
      "53. 7 rows score 5.0\n",
      "54. 7 rows score 5.0\n",
      "55. 7 rows score 3.6\n",
      "56. 7 rows score 2.0\n",
      "57. 7 rows score 5.0\n",
      "58. 7 rows score 5.0\n",
      "59. 7 rows score 3.0\n",
      "60. 2 rows score 5.0\n",
      "61. 7 rows score 3.0\n",
      "62. 7 rows score 2.0\n",
      "63. 7 rows score 5.0\n",
      "64. 7 rows score 4.0\n",
      "65. 7 rows score 5.0\n",
      "66. 7 rows score 5.0\n",
      "67. 2 rows score 5.0\n",
      "68. 7 rows score 5.0\n",
      "69. 7 rows score 5.0\n",
      "70. 5 rows score 3.0\n",
      "71. 7 rows score 4.0\n",
      "72. 2 rows score 5.0\n",
      "73. 7 rows score 5.0\n",
      "74. 1 rows score 5.0\n",
      "75. 7 rows score 5.0\n",
      "76. 2 rows score 5.0\n",
      "77. 4 rows score 4.0\n",
      "78. 4 rows score 3.2\n",
      "79. 7 rows score 5.4\n",
      "80. 7 rows score 5.0\n",
      "81. 7 rows score 3.0\n",
      "82. 7 rows score 5.3\n",
      "83. 7 rows score 4.0\n",
      "84. 5 rows score 5.0\n",
      "85. 2 rows score 5.0\n",
      "86. 7 rows score 5.0\n",
      "87. 7 rows score 5.0\n",
      "88. 2 rows score 4.0\n",
      "89. 7 rows score 3.0\n",
      "90. 7 rows score 2.3\n",
      "91. 4 rows score 5.0\n",
      "92. 7 rows score 4.0\n",
      "93. 7 rows score 5.0\n",
      "94. 7 rows score 4.0\n",
      "95. 7 rows score 5.0\n",
      "96. 7 rows score 5.0\n",
      "97. 7 rows score 5.0\n",
      "98. 7 rows score 5.0\n",
      "99. 4 rows score 5.0\n",
      "100. 7 rows score 5.0\n",
      "101. 3 rows score 5.0\n",
      "102. 3 rows score 5.0\n",
      "103. 3 rows score 5.0\n",
      "104. 14 rows score -2.5\n",
      "105. 7 rows score -5.0\n",
      "106. 7 rows score -5.0\n",
      "107. 7 rows score -1.1\n",
      "108. 8 rows score 2.4\n",
      "109. 8 rows score 2.4\n",
      "110. 8 rows score 3.4\n",
      "111. 4 rows score 2.8\n",
      "112. 8 rows score 3.4\n",
      "113. 7 rows score 1.0\n",
      "114. 4 rows score 1.2\n",
      "115. 5 rows score 1.6\n",
      "116. 7 rows score 5.6\n",
      "117. 7 rows score 1.7\n",
      "118. 7 rows score 2.0\n",
      "119. 7 rows score 2.6\n",
      "120. 7 rows score 3.0\n",
      "121. 7 rows score 3.0\n",
      "122. 7 rows score 3.0\n",
      "123. 7 rows score 4.0\n",
      "124. 7 rows score 4.0\n",
      "125. 7 rows score 2.7\n",
      "126. 7 rows score 5.0\n",
      "127. 7 rows score 5.0\n",
      "128. 7 rows score 5.0\n",
      "129. 7 rows score 4.7\n",
      "130. 7 rows score 4.7\n",
      "131. 7 rows score 3.4\n",
      "132. 7 rows score 4.0\n",
      "133. 6 rows score 4.0\n",
      "134. 3 rows score 4.0\n",
      "135. 7 rows score 3.3\n",
      "136. 7 rows score 4.3\n",
      "137. 7 rows score 3.0\n",
      "138. 4 rows score 2.5\n",
      "139. 7 rows score 3.7\n",
      "140. 7 rows score 3.7\n",
      "141. 7 rows score 3.0\n",
      "142. 7 rows score 3.0\n",
      "143. 7 rows score 3.0\n",
      "144. 14 rows score 0.6\n",
      "145. 3 rows score 1.7\n",
      "146. 8 rows score 2.4\n",
      "147. 7 rows score 5.4\n",
      "148. 7 rows score 3.9\n",
      "149. 7 rows score 2.6\n",
      "150. 7 rows score 3.9\n",
      "151. 5 rows score 3.0\n",
      "152. 14 rows score 0.9\n",
      "153. 9 rows score 2.9\n",
      "154. 13 rows score 1.5\n",
      "155. 8 rows score 2.8\n",
      "156. 7 rows score 4.4\n",
      "157. 7 rows score 4.1\n",
      "158. 6 rows score 4.7\n",
      "159. 1 rows score 2.0\n",
      "160. 7 rows score 0.0\n",
      "161. 7 rows score 1.0\n",
      "162. 7 rows score 1.0\n",
      "163. 7 rows score 1.0\n",
      "164. 7 rows score 5.3\n",
      "165. 7 rows score 5.3\n",
      "166. 7 rows score 7.0\n",
      "167. 7 rows score 5.0\n",
      "168. 5 rows score -4.4\n",
      "169. 7 rows score -5.0\n",
      "170. 1 rows score -5.0\n",
      "171. 7 rows score 3.7\n",
      "172. 7 rows score 3.9\n",
      "173. 7 rows score 5.3\n",
      "174. 4 rows score -0.5\n",
      "175. 14 rows score -2.5\n",
      "176. 7 rows score 3.6\n",
      "177. 7 rows score 3.1\n",
      "178. 1 rows score 5.0\n",
      "179. 1 rows score 5.0\n",
      "180. 5 rows score 5.0\n",
      "181. 7 rows score 3.6\n",
      "182. 7 rows score 3.0\n"
     ]
    },
    {
     "ename": "LoadError",
     "evalue": "Base.InvalidCharError{Char}('\\x96')",
     "output_type": "error",
     "traceback": [
      "Base.InvalidCharError{Char}('\\x96')",
      "",
      "Stacktrace:",
      "  [1] throw_invalid_char(c::Char)",
      "    @ Base .\\char.jl:86",
      "  [2] UInt32",
      "    @ .\\char.jl:133 [inlined]",
      "  [3] convert",
      "    @ .\\char.jl:185 [inlined]",
      "  [4] cconvert",
      "    @ .\\essentials.jl:417 [inlined]",
      "  [5] lowercase(c::Char)",
      "    @ Base.Unicode .\\strings\\unicode.jl:249",
      "  [6] map(f::typeof(lowercase), s::String)",
      "    @ Base .\\strings\\basic.jl:610",
      "  [7] lowercase",
      "    @ .\\strings\\unicode.jl:540 [inlined]",
      "  [8] cleanDate(txtin::String)",
      "    @ Main.BlockDates C:\\Users\\fsmart\\OneDrive - Censeo Consulting Group\\Documents\\GitHub\\SoftDates.jl\\src\\BlockDates.jl:420",
      "  [9] formatRange(textin::String; rangeformat::Int64, defaultdate::Date)",
      "    @ Main.BlockDates C:\\Users\\fsmart\\OneDrive - Censeo Consulting Group\\Documents\\GitHub\\SoftDates.jl\\src\\BlockDates.jl:504",
      " [10] textToBlock(txtsplit::Vector{String}; singleformat::Int64, rangeformat::Int64, defaultdate::Date)",
      "    @ Main.BlockDates C:\\Users\\fsmart\\OneDrive - Censeo Consulting Group\\Documents\\GitHub\\SoftDates.jl\\src\\BlockDates.jl:572",
      " [11] blockdate(txtin::String; dtstart::Date, dtend::Date, splits::Regex, singleformats::Int64, rangeformats::Int64, targetScore::Int64, verbose::Bool)",
      "    @ Main.BlockDates C:\\Users\\fsmart\\OneDrive - Censeo Consulting Group\\Documents\\GitHub\\SoftDates.jl\\src\\BlockDates.jl:809",
      " [12] top-level scope",
      "    @ .\\In[14]:4",
      " [13] eval",
      "    @ .\\boot.jl:373 [inlined]",
      " [14] include_string(mapexpr::typeof(REPL.softscope), mod::Module, code::String, filename::String)",
      "    @ Base .\\loading.jl:1196"
     ]
    }
   ],
   "source": [
    "# Create an empty DataFrame\n",
    "dfout = DataFrame()\n",
    "for i in 1:size(inDF, 1)\n",
    "    dftemp      = blockdate(inDF[i, \"text remark\"], \n",
    "        dtstart = inDF[i, \"startDate\"], \n",
    "        dtend   = inDF[i, \"endDate\"])\n",
    "\n",
    "    dftemp[:, \"id\"] .= inDF[i, \"id\"]\n",
    "    \n",
    "    println(\"$(i). $(size(dftemp, 1)) rows score $(round(dftemp.score[1], digits = 1))\")\n",
    "\n",
    "    # Append dftemp to dfout\n",
    "    dfout = [dfout; dftemp]\n",
    "end"
   ]
  },
  {
   "cell_type": "code",
   "execution_count": 8,
   "id": "0d019f58",
   "metadata": {
    "scrolled": true
   },
   "outputs": [
    {
     "data": {
      "text/html": [
       "<div class=\"data-frame\"><p>1,153 rows × 9 columns (omitted printing of 2 columns)</p><table class=\"data-frame\"><thead><tr><th></th><th>id</th><th>date</th><th>mods</th><th>scoremod</th><th>score</th><th>order</th><th>text</th></tr><tr><th></th><th title=\"Int64\">Int64</th><th title=\"Date\">Date</th><th title=\"Union{Missing, String}\">String?</th><th title=\"Union{Missing, Int64}\">Int64?</th><th title=\"Float64\">Float64</th><th title=\"Union{Missing, Vector{Int64}}\">Array…?</th><th title=\"String\">String</th></tr></thead><tbody><tr><th>1</th><td>1</td><td>2021-08-22</td><td> rangefound</td><td>5</td><td>5.0</td><td>[1]</td><td>08/22/2021 through 08/28/2021 - Eget egestas purus viverra accumsan in nisl.</td></tr><tr><th>2</th><td>1</td><td>2021-08-23</td><td> rangefound</td><td>5</td><td>5.0</td><td>[2]</td><td>08/22/2021 through 08/28/2021 - Eget egestas purus viverra accumsan in nisl.</td></tr><tr><th>3</th><td>1</td><td>2021-08-24</td><td> rangefound</td><td>5</td><td>5.0</td><td>[3]</td><td>08/22/2021 through 08/28/2021 - Eget egestas purus viverra accumsan in nisl.</td></tr><tr><th>4</th><td>1</td><td>2021-08-25</td><td> rangefound</td><td>5</td><td>5.0</td><td>[4]</td><td>08/22/2021 through 08/28/2021 - Eget egestas purus viverra accumsan in nisl.</td></tr><tr><th>5</th><td>1</td><td>2021-08-26</td><td> rangefound</td><td>5</td><td>5.0</td><td>[5]</td><td>08/22/2021 through 08/28/2021 - Eget egestas purus viverra accumsan in nisl.</td></tr><tr><th>6</th><td>1</td><td>2021-08-27</td><td> rangefound</td><td>5</td><td>5.0</td><td>[6]</td><td>08/22/2021 through 08/28/2021 - Eget egestas purus viverra accumsan in nisl.</td></tr><tr><th>7</th><td>1</td><td>2021-08-28</td><td> rangefound</td><td>5</td><td>5.0</td><td>[7]</td><td>08/22/2021 through 08/28/2021 - Eget egestas purus viverra accumsan in nisl.</td></tr><tr><th>8</th><td>2</td><td>2021-09-05</td><td></td><td>5</td><td>5.0</td><td>[1]</td><td>9/05/2021 - Lorem ipsum dolor sit amet, consectetur adipiscing elit, sed do eiusmod tempor incididunt ut labore et dolore magna aliqua.</td></tr><tr><th>9</th><td>2</td><td>2021-09-06</td><td></td><td>5</td><td>5.0</td><td>[2]</td><td>9/06/2021 - Fermentum posuere urna nec tincidunt praesent.</td></tr><tr><th>10</th><td>2</td><td>2021-09-07</td><td></td><td>5</td><td>5.0</td><td>[3]</td><td>9/07/2021 - Convallis a cras semper auctor neque vitae.</td></tr><tr><th>11</th><td>2</td><td>2021-09-08</td><td></td><td>5</td><td>5.0</td><td>[4]</td><td>9/08/2021 - Porttitor lacus luctus accumsan tortor posuere.</td></tr><tr><th>12</th><td>2</td><td>2021-09-09</td><td></td><td>5</td><td>5.0</td><td>[5]</td><td>9/09/2021 - Tristique senectus et netus et.</td></tr><tr><th>13</th><td>2</td><td>2021-09-10</td><td></td><td>5</td><td>5.0</td><td>[6]</td><td>9/10/2021 - Porttitor rhoncus dolor purus non.</td></tr><tr><th>14</th><td>2</td><td>2021-09-11</td><td></td><td>5</td><td>5.0</td><td>[7]</td><td>9/11/2021 - Tristique senectus et netus et malesuada fames.</td></tr><tr><th>15</th><td>3</td><td>2021-08-01</td><td> rangefound</td><td>5</td><td>5.0</td><td>[1]</td><td>08/01/2021 through 08/07/2021 - Bibendum neque egestas congue quisque egestas.</td></tr><tr><th>16</th><td>3</td><td>2021-08-02</td><td> rangefound</td><td>5</td><td>5.0</td><td>[2]</td><td>08/01/2021 through 08/07/2021 - Bibendum neque egestas congue quisque egestas.</td></tr><tr><th>17</th><td>3</td><td>2021-08-03</td><td> rangefound</td><td>5</td><td>5.0</td><td>[3]</td><td>08/01/2021 through 08/07/2021 - Bibendum neque egestas congue quisque egestas.</td></tr><tr><th>18</th><td>3</td><td>2021-08-04</td><td> rangefound</td><td>5</td><td>5.0</td><td>[4]</td><td>08/01/2021 through 08/07/2021 - Bibendum neque egestas congue quisque egestas.</td></tr><tr><th>19</th><td>3</td><td>2021-08-05</td><td> rangefound</td><td>5</td><td>5.0</td><td>[5]</td><td>08/01/2021 through 08/07/2021 - Bibendum neque egestas congue quisque egestas.</td></tr><tr><th>20</th><td>3</td><td>2021-08-06</td><td> rangefound</td><td>5</td><td>5.0</td><td>[6]</td><td>08/01/2021 through 08/07/2021 - Bibendum neque egestas congue quisque egestas.</td></tr><tr><th>21</th><td>3</td><td>2021-08-07</td><td> rangefound</td><td>5</td><td>5.0</td><td>[7]</td><td>08/01/2021 through 08/07/2021 - Bibendum neque egestas congue quisque egestas.</td></tr><tr><th>22</th><td>4</td><td>2021-01-31</td><td>+2000yr</td><td>4</td><td>4.0</td><td>[1]</td><td>1/31/21 \\n Pretium viverra suspendisse potenti nullam.</td></tr><tr><th>23</th><td>4</td><td>2021-02-01</td><td>+2000yr</td><td>4</td><td>4.0</td><td>[3]</td><td>2/01/21 \\n Nibh tortor id aliquet lectus proin nibh.</td></tr><tr><th>24</th><td>4</td><td>2021-02-02</td><td>+2000yr</td><td>4</td><td>4.0</td><td>[5]</td><td>2/02/21 \\n Eu consequat ac felis donec et odio pellentesque.</td></tr><tr><th>25</th><td>4</td><td>2021-02-03</td><td>+2000yr</td><td>4</td><td>4.0</td><td>[7]</td><td>2/03/21 \\n Risus nullam eget felis eget nunc lobortis mattis aliquam faucibus.</td></tr><tr><th>26</th><td>4</td><td>2021-02-04</td><td>+2000yr</td><td>4</td><td>4.0</td><td>[9]</td><td>2/04/21 \\n Risus viverra adipiscing at in tellus integer feugiat scelerisque varius.</td></tr><tr><th>27</th><td>4</td><td>2021-02-05</td><td>+2000yr</td><td>4</td><td>4.0</td><td>[11]</td><td>2/05/21 \\n Amet facilisis magna etiam tempor orci eu lobortis elementum.</td></tr><tr><th>28</th><td>4</td><td>2021-02-06</td><td>+2000yr</td><td>4</td><td>4.0</td><td>[13]</td><td>2/06/21 \\n Tellus mauris a diam maecenas sed enim ut sem viverra.</td></tr><tr><th>29</th><td>5</td><td>2021-12-12</td><td></td><td>5</td><td>5.0</td><td>[1]</td><td>12/12/2021 - Morbi quis commodo odio aenean sed adipiscing.</td></tr><tr><th>30</th><td>5</td><td>2021-12-13</td><td></td><td>5</td><td>5.0</td><td>[2]</td><td>12/13/2021 - Elementum eu facilisis sed odio morbi.</td></tr><tr><th>&vellip;</th><td>&vellip;</td><td>&vellip;</td><td>&vellip;</td><td>&vellip;</td><td>&vellip;</td><td>&vellip;</td><td>&vellip;</td></tr></tbody></table></div>"
      ],
      "text/latex": [
       "\\begin{tabular}{r|cccccccc}\n",
       "\t& id & date & mods & scoremod & score & order & text & \\\\\n",
       "\t\\hline\n",
       "\t& Int64 & Date & String? & Int64? & Float64 & Array…? & String & \\\\\n",
       "\t\\hline\n",
       "\t1 & 1 & 2021-08-22 &  rangefound & 5 & 5.0 & [1] & 08/22/2021 through 08/28/2021 - Eget egestas purus viverra accumsan in nisl. & $\\dots$ \\\\\n",
       "\t2 & 1 & 2021-08-23 &  rangefound & 5 & 5.0 & [2] & 08/22/2021 through 08/28/2021 - Eget egestas purus viverra accumsan in nisl. & $\\dots$ \\\\\n",
       "\t3 & 1 & 2021-08-24 &  rangefound & 5 & 5.0 & [3] & 08/22/2021 through 08/28/2021 - Eget egestas purus viverra accumsan in nisl. & $\\dots$ \\\\\n",
       "\t4 & 1 & 2021-08-25 &  rangefound & 5 & 5.0 & [4] & 08/22/2021 through 08/28/2021 - Eget egestas purus viverra accumsan in nisl. & $\\dots$ \\\\\n",
       "\t5 & 1 & 2021-08-26 &  rangefound & 5 & 5.0 & [5] & 08/22/2021 through 08/28/2021 - Eget egestas purus viverra accumsan in nisl. & $\\dots$ \\\\\n",
       "\t6 & 1 & 2021-08-27 &  rangefound & 5 & 5.0 & [6] & 08/22/2021 through 08/28/2021 - Eget egestas purus viverra accumsan in nisl. & $\\dots$ \\\\\n",
       "\t7 & 1 & 2021-08-28 &  rangefound & 5 & 5.0 & [7] & 08/22/2021 through 08/28/2021 - Eget egestas purus viverra accumsan in nisl. & $\\dots$ \\\\\n",
       "\t8 & 2 & 2021-09-05 &  & 5 & 5.0 & [1] & 9/05/2021 - Lorem ipsum dolor sit amet, consectetur adipiscing elit, sed do eiusmod tempor incididunt ut labore et dolore magna aliqua. & $\\dots$ \\\\\n",
       "\t9 & 2 & 2021-09-06 &  & 5 & 5.0 & [2] & 9/06/2021 - Fermentum posuere urna nec tincidunt praesent. & $\\dots$ \\\\\n",
       "\t10 & 2 & 2021-09-07 &  & 5 & 5.0 & [3] & 9/07/2021 - Convallis a cras semper auctor neque vitae. & $\\dots$ \\\\\n",
       "\t11 & 2 & 2021-09-08 &  & 5 & 5.0 & [4] & 9/08/2021 - Porttitor lacus luctus accumsan tortor posuere. & $\\dots$ \\\\\n",
       "\t12 & 2 & 2021-09-09 &  & 5 & 5.0 & [5] & 9/09/2021 - Tristique senectus et netus et. & $\\dots$ \\\\\n",
       "\t13 & 2 & 2021-09-10 &  & 5 & 5.0 & [6] & 9/10/2021 - Porttitor rhoncus dolor purus non. & $\\dots$ \\\\\n",
       "\t14 & 2 & 2021-09-11 &  & 5 & 5.0 & [7] & 9/11/2021 - Tristique senectus et netus et malesuada fames. & $\\dots$ \\\\\n",
       "\t15 & 3 & 2021-08-01 &  rangefound & 5 & 5.0 & [1] & 08/01/2021 through 08/07/2021 - Bibendum neque egestas congue quisque egestas. & $\\dots$ \\\\\n",
       "\t16 & 3 & 2021-08-02 &  rangefound & 5 & 5.0 & [2] & 08/01/2021 through 08/07/2021 - Bibendum neque egestas congue quisque egestas. & $\\dots$ \\\\\n",
       "\t17 & 3 & 2021-08-03 &  rangefound & 5 & 5.0 & [3] & 08/01/2021 through 08/07/2021 - Bibendum neque egestas congue quisque egestas. & $\\dots$ \\\\\n",
       "\t18 & 3 & 2021-08-04 &  rangefound & 5 & 5.0 & [4] & 08/01/2021 through 08/07/2021 - Bibendum neque egestas congue quisque egestas. & $\\dots$ \\\\\n",
       "\t19 & 3 & 2021-08-05 &  rangefound & 5 & 5.0 & [5] & 08/01/2021 through 08/07/2021 - Bibendum neque egestas congue quisque egestas. & $\\dots$ \\\\\n",
       "\t20 & 3 & 2021-08-06 &  rangefound & 5 & 5.0 & [6] & 08/01/2021 through 08/07/2021 - Bibendum neque egestas congue quisque egestas. & $\\dots$ \\\\\n",
       "\t21 & 3 & 2021-08-07 &  rangefound & 5 & 5.0 & [7] & 08/01/2021 through 08/07/2021 - Bibendum neque egestas congue quisque egestas. & $\\dots$ \\\\\n",
       "\t22 & 4 & 2021-01-31 & +2000yr & 4 & 4.0 & [1] & 1/31/21 \\textbackslash{}n Pretium viverra suspendisse potenti nullam. & $\\dots$ \\\\\n",
       "\t23 & 4 & 2021-02-01 & +2000yr & 4 & 4.0 & [3] & 2/01/21 \\textbackslash{}n Nibh tortor id aliquet lectus proin nibh. & $\\dots$ \\\\\n",
       "\t24 & 4 & 2021-02-02 & +2000yr & 4 & 4.0 & [5] & 2/02/21 \\textbackslash{}n Eu consequat ac felis donec et odio pellentesque. & $\\dots$ \\\\\n",
       "\t25 & 4 & 2021-02-03 & +2000yr & 4 & 4.0 & [7] & 2/03/21 \\textbackslash{}n Risus nullam eget felis eget nunc lobortis mattis aliquam faucibus. & $\\dots$ \\\\\n",
       "\t26 & 4 & 2021-02-04 & +2000yr & 4 & 4.0 & [9] & 2/04/21 \\textbackslash{}n Risus viverra adipiscing at in tellus integer feugiat scelerisque varius. & $\\dots$ \\\\\n",
       "\t27 & 4 & 2021-02-05 & +2000yr & 4 & 4.0 & [11] & 2/05/21 \\textbackslash{}n Amet facilisis magna etiam tempor orci eu lobortis elementum. & $\\dots$ \\\\\n",
       "\t28 & 4 & 2021-02-06 & +2000yr & 4 & 4.0 & [13] & 2/06/21 \\textbackslash{}n Tellus mauris a diam maecenas sed enim ut sem viverra. & $\\dots$ \\\\\n",
       "\t29 & 5 & 2021-12-12 &  & 5 & 5.0 & [1] & 12/12/2021 - Morbi quis commodo odio aenean sed adipiscing. & $\\dots$ \\\\\n",
       "\t30 & 5 & 2021-12-13 &  & 5 & 5.0 & [2] & 12/13/2021 - Elementum eu facilisis sed odio morbi. & $\\dots$ \\\\\n",
       "\t$\\dots$ & $\\dots$ & $\\dots$ & $\\dots$ & $\\dots$ & $\\dots$ & $\\dots$ & $\\dots$ &  \\\\\n",
       "\\end{tabular}\n"
      ],
      "text/plain": [
       "\u001b[1m1153×9 DataFrame\u001b[0m\n",
       "\u001b[1m  Row \u001b[0m│\u001b[1m id    \u001b[0m\u001b[1m date       \u001b[0m\u001b[1m mods        \u001b[0m\u001b[1m scoremod \u001b[0m\u001b[1m score   \u001b[0m\u001b[1m order   \u001b[0m\u001b[1m text      \u001b[0m ⋯\n",
       "\u001b[1m      \u001b[0m│\u001b[90m Int64 \u001b[0m\u001b[90m Date       \u001b[0m\u001b[90m String?     \u001b[0m\u001b[90m Int64?   \u001b[0m\u001b[90m Float64 \u001b[0m\u001b[90m Array…? \u001b[0m\u001b[90m String    \u001b[0m ⋯\n",
       "──────┼─────────────────────────────────────────────────────────────────────────\n",
       "    1 │     1  2021-08-22   rangefound         5  5.0      [1]      08/22/2021 ⋯\n",
       "    2 │     1  2021-08-23   rangefound         5  5.0      [2]      08/22/2021\n",
       "    3 │     1  2021-08-24   rangefound         5  5.0      [3]      08/22/2021\n",
       "    4 │     1  2021-08-25   rangefound         5  5.0      [4]      08/22/2021\n",
       "    5 │     1  2021-08-26   rangefound         5  5.0      [5]      08/22/2021 ⋯\n",
       "    6 │     1  2021-08-27   rangefound         5  5.0      [6]      08/22/2021\n",
       "    7 │     1  2021-08-28   rangefound         5  5.0      [7]      08/22/2021\n",
       "    8 │     2  2021-09-05                      5  5.0      [1]      9/05/2021\n",
       "    9 │     2  2021-09-06                      5  5.0      [2]      9/06/2021  ⋯\n",
       "   10 │     2  2021-09-07                      5  5.0      [3]      9/07/2021\n",
       "   11 │     2  2021-09-08                      5  5.0      [4]      9/08/2021\n",
       "  ⋮   │   ⋮        ⋮            ⋮          ⋮         ⋮        ⋮                ⋱\n",
       " 1144 │   181  2021-08-26  filled             -5  3.57143 \u001b[90m missing \u001b[0m <<NO TEXT\n",
       " 1145 │   181  2021-08-27                      5  3.57143  [5]      8/27/2021  ⋯\n",
       " 1146 │   181  2021-08-28                      5  3.57143  [6]      8/28/2021\n",
       " 1147 │   182  2021-12-12  +2000yr             3  3.0      [1]      Est lorem\n",
       " 1148 │   182  2021-12-13  +2000yr             3  3.0      [2]      Mon - 12/1\n",
       " 1149 │   182  2021-12-14  +2000yr             3  3.0      [3]      Tues - 12/ ⋯\n",
       " 1150 │   182  2021-12-15  +2000yr             3  3.0      [4]      Wed - 12/1\n",
       " 1151 │   182  2021-12-16  +2000yr             3  3.0      [5]      Thurs - 12\n",
       " 1152 │   182  2021-12-17  +2000yr             3  3.0      [6]      Fri - 12/1\n",
       " 1153 │   182  2021-12-18  +2000yr             3  3.0      [7]      Sat - 12/1 ⋯\n",
       "\u001b[36m                                                 3 columns and 1132 rows omitted\u001b[0m"
      ]
     },
     "execution_count": 8,
     "metadata": {},
     "output_type": "execute_result"
    }
   ],
   "source": [
    "dfout = select(dfout, [:id], Not(:id))"
   ]
  },
  {
   "cell_type": "code",
   "execution_count": 9,
   "id": "da4a9297",
   "metadata": {},
   "outputs": [
    {
     "data": {
      "text/plain": [
       "\"demoOut.csv\""
      ]
     },
     "execution_count": 9,
     "metadata": {},
     "output_type": "execute_result"
    }
   ],
   "source": [
    "CSV.write(\"demoOut.csv\", dfout)"
   ]
  },
  {
   "cell_type": "code",
   "execution_count": null,
   "id": "fdd349f4",
   "metadata": {},
   "outputs": [],
   "source": []
  }
 ],
 "metadata": {
  "kernelspec": {
   "display_name": "Julia 1.7.2",
   "language": "julia",
   "name": "julia-1.7"
  },
  "language_info": {
   "file_extension": ".jl",
   "mimetype": "application/julia",
   "name": "julia",
   "version": "1.7.2"
  }
 },
 "nbformat": 4,
 "nbformat_minor": 5
}
