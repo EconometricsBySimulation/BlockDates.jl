{
 "cells": [
  {
   "cell_type": "code",
   "execution_count": 1,
   "id": "ebc12fb7",
   "metadata": {},
   "outputs": [
    {
     "name": "stderr",
     "output_type": "stream",
     "text": [
      "\u001b[32m\u001b[1m  Activating\u001b[22m\u001b[39m project at `C:\\Users\\fsmart\\OneDrive - Censeo Consulting Group\\Documents\\GitHub\\SoftDates.jl`\n"
     ]
    }
   ],
   "source": [
    "# Activate the packages virtual environment\n",
    "using Pkg\n",
    "Pkg.activate(\"../\")"
   ]
  },
  {
   "cell_type": "code",
   "execution_count": 2,
   "id": "9c0b49c7",
   "metadata": {
    "scrolled": true
   },
   "outputs": [
    {
     "name": "stderr",
     "output_type": "stream",
     "text": [
      "┌ Warning: The active manifest file is an older format with no julia version entry. Dependencies may have been resolved with a different julia version.\n",
      "└ @ nothing C:\\Users\\fsmart\\OneDrive - Censeo Consulting Group\\Documents\\GitHub\\SoftDates.jl\\Manifest.toml:0\n",
      "\u001b[32m\u001b[1mPrecompiling\u001b[22m\u001b[39m project...\n",
      "\u001b[32m  ✓ \u001b[39mSoftDates\n",
      "  1 dependency successfully precompiled in 4 seconds (64 already precompiled)\n"
     ]
    }
   ],
   "source": [
    "# This will have to be done after a new install\n",
    "Pkg.instantiate()"
   ]
  },
  {
   "cell_type": "code",
   "execution_count": 3,
   "id": "b14527da",
   "metadata": {},
   "outputs": [],
   "source": [
    "include(\"../src/BlockDates.jl\")\n",
    "# if missing a required package install with \n",
    "# Pkg.add(\"packageName\")\n",
    "\n",
    "# Load Packages\n",
    "using Main.BlockDates, Dates, DataFrames, CSV\n",
    "using Main.BlockDates: blockdate"
   ]
  },
  {
   "cell_type": "code",
   "execution_count": 23,
   "id": "50cf3967",
   "metadata": {
    "scrolled": true
   },
   "outputs": [
    {
     "data": {
      "text/html": [
       "<div class=\"data-frame\"><p>5 rows × 4 columns</p><table class=\"data-frame\"><thead><tr><th></th><th>id</th><th>startDate</th><th>endDate</th><th>text remark</th></tr><tr><th></th><th title=\"Int64\">Int64</th><th title=\"String15\">String15</th><th title=\"String15\">String15</th><th title=\"String\">String</th></tr></thead><tbody><tr><th>1</th><td>1</td><td>8/22/2021</td><td>8/28/2021</td><td>08/22/2021 through 08/28/2021 - Eget egestas purus viverra accumsan in nisl. </td></tr><tr><th>2</th><td>2</td><td>9/5/2021</td><td>9/11/2021</td><td>9/05/2021 - Lorem ipsum dolor sit amet, consectetur adipiscing elit, sed do eiusmod tempor incididunt ut labore et dolore magna aliqua. \\n9/06/2021 - Fermentum posuere urna nec tincidunt praesent.\\n9/07/2021 - Convallis a cras semper auctor neque vitae.\\n9/08/2021 - Porttitor lacus luctus accumsan tortor posuere.\\n9/09/2021 - Tristique senectus et netus et.\\n9/10/2021 - Porttitor rhoncus dolor purus non.\\n9/11/2021 - Tristique senectus et netus et malesuada fames.</td></tr><tr><th>3</th><td>3</td><td>8/1/2021</td><td>8/7/2021</td><td>08/01/2021 through 08/07/2021 - Bibendum neque egestas congue quisque egestas.</td></tr><tr><th>4</th><td>4</td><td>1/31/2021</td><td>2/6/2021</td><td>1/31/21\\nPretium viverra suspendisse potenti nullam.\\n2/01/21\\nNibh tortor id aliquet lectus proin nibh.\\n \\n2/02/21\\nEu consequat ac felis donec et odio pellentesque.\\n2/03/21\\nRisus nullam eget felis eget nunc lobortis mattis aliquam faucibus.\\n2/04/21\\nRisus viverra adipiscing at in tellus integer feugiat scelerisque varius.\\n2/05/21\\nAmet facilisis magna etiam tempor orci eu lobortis elementum.\\n2/06/21\\nTellus mauris a diam maecenas sed enim ut sem viverra.</td></tr><tr><th>5</th><td>5</td><td>12/12/2021</td><td>12/18/2021</td><td>12/12/2021 - Morbi quis commodo odio aenean sed adipiscing.\\n12/13/2021 - Elementum eu facilisis sed odio morbi.\\n12/14/2021 - At auctor urna nunc id cursus metus aliquam eleifend.\\n12/15/2021 - Amet nulla facilisi morbi tempus iaculis urna id volutpat lacus.\\n12/16/2021 - Sem fringilla ut morbi tincidunt augue interdum velit euismod in.\\n12/17/2021 - Pharetra diam sit amet nisl suscipit adipiscing bibendum est ultricies.\\n12/18/2021 - Ultricies mi eget mauris pharetra et ultrices neque ornare aenean.</td></tr></tbody></table></div>"
      ],
      "text/latex": [
       "\\begin{tabular}{r|cccc}\n",
       "\t& id & startDate & endDate & text remark\\\\\n",
       "\t\\hline\n",
       "\t& Int64 & String15 & String15 & String\\\\\n",
       "\t\\hline\n",
       "\t1 & 1 & 8/22/2021 & 8/28/2021 & 08/22/2021 through 08/28/2021 - Eget egestas purus viverra accumsan in nisl.  \\\\\n",
       "\t2 & 2 & 9/5/2021 & 9/11/2021 & 9/05/2021 - Lorem ipsum dolor sit amet, consectetur adipiscing elit, sed do eiusmod tempor incididunt ut labore et dolore magna aliqua. \\textbackslash{}n9/06/2021 - Fermentum posuere urna nec tincidunt praesent.\\textbackslash{}n9/07/2021 - Convallis a cras semper auctor neque vitae.\\textbackslash{}n9/08/2021 - Porttitor lacus luctus accumsan tortor posuere.\\textbackslash{}n9/09/2021 - Tristique senectus et netus et.\\textbackslash{}n9/10/2021 - Porttitor rhoncus dolor purus non.\\textbackslash{}n9/11/2021 - Tristique senectus et netus et malesuada fames. \\\\\n",
       "\t3 & 3 & 8/1/2021 & 8/7/2021 & 08/01/2021 through 08/07/2021 - Bibendum neque egestas congue quisque egestas. \\\\\n",
       "\t4 & 4 & 1/31/2021 & 2/6/2021 & 1/31/21\\textbackslash{}nPretium viverra suspendisse potenti nullam.\\textbackslash{}n2/01/21\\textbackslash{}nNibh tortor id aliquet lectus proin nibh.\\textbackslash{}n \\textbackslash{}n2/02/21\\textbackslash{}nEu consequat ac felis donec et odio pellentesque.\\textbackslash{}n2/03/21\\textbackslash{}nRisus nullam eget felis eget nunc lobortis mattis aliquam faucibus.\\textbackslash{}n2/04/21\\textbackslash{}nRisus viverra adipiscing at in tellus integer feugiat scelerisque varius.\\textbackslash{}n2/05/21\\textbackslash{}nAmet facilisis magna etiam tempor orci eu lobortis elementum.\\textbackslash{}n2/06/21\\textbackslash{}nTellus mauris a diam maecenas sed enim ut sem viverra. \\\\\n",
       "\t5 & 5 & 12/12/2021 & 12/18/2021 & 12/12/2021 - Morbi quis commodo odio aenean sed adipiscing.\\textbackslash{}n12/13/2021 - Elementum eu facilisis sed odio morbi.\\textbackslash{}n12/14/2021 - At auctor urna nunc id cursus metus aliquam eleifend.\\textbackslash{}n12/15/2021 - Amet nulla facilisi morbi tempus iaculis urna id volutpat lacus.\\textbackslash{}n12/16/2021 - Sem fringilla ut morbi tincidunt augue interdum velit euismod in.\\textbackslash{}n12/17/2021 - Pharetra diam sit amet nisl suscipit adipiscing bibendum est ultricies.\\textbackslash{}n12/18/2021 - Ultricies mi eget mauris pharetra et ultrices neque ornare aenean. \\\\\n",
       "\\end{tabular}\n"
      ],
      "text/plain": [
       "\u001b[1m5×4 DataFrame\u001b[0m\n",
       "\u001b[1m Row \u001b[0m│\u001b[1m id    \u001b[0m\u001b[1m startDate  \u001b[0m\u001b[1m endDate    \u001b[0m\u001b[1m text remark                       \u001b[0m\n",
       "\u001b[1m     \u001b[0m│\u001b[90m Int64 \u001b[0m\u001b[90m String15   \u001b[0m\u001b[90m String15   \u001b[0m\u001b[90m String                            \u001b[0m\n",
       "─────┼──────────────────────────────────────────────────────────────────\n",
       "   1 │     1  8/22/2021   8/28/2021   08/22/2021 through 08/28/2021 - …\n",
       "   2 │     2  9/5/2021    9/11/2021   9/05/2021 - Lorem ipsum dolor si…\n",
       "   3 │     3  8/1/2021    8/7/2021    08/01/2021 through 08/07/2021 - …\n",
       "   4 │     4  1/31/2021   2/6/2021    1/31/21\\nPretium viverra suspend…\n",
       "   5 │     5  12/12/2021  12/18/2021  12/12/2021 - Morbi quis commodo …"
      ]
     },
     "execution_count": 23,
     "metadata": {},
     "output_type": "execute_result"
    }
   ],
   "source": [
    "# Read CSV file as DataFrame\n",
    "inDF = CSV.read(\"data.csv\", DataFrame)\n",
    "first(inDF,5)"
   ]
  },
  {
   "cell_type": "markdown",
   "id": "75d28803",
   "metadata": {},
   "source": [
    "**Convert String Dates to Date format dates**\n",
    "\n",
    "They have to be new columns as the old ones were string columns"
   ]
  },
  {
   "cell_type": "code",
   "execution_count": 26,
   "id": "cae5859c",
   "metadata": {
    "scrolled": true
   },
   "outputs": [
    {
     "ename": "LoadError",
     "evalue": "MethodError: \u001b[0mCannot `convert` an object of type \u001b[92mDate\u001b[39m\u001b[0m to an object of type \u001b[91mString15\u001b[39m\n\u001b[0mClosest candidates are:\n\u001b[0m  convert(::Type{T}, \u001b[91m::T\u001b[39m) where T<:AbstractString at C:\\Users\\fsmart\\AppData\\Local\\Programs\\Julia-1.7.2\\share\\julia\\base\\strings\\basic.jl:231\n\u001b[0m  convert(::Type{T}, \u001b[91m::AbstractString\u001b[39m) where T<:AbstractString at C:\\Users\\fsmart\\AppData\\Local\\Programs\\Julia-1.7.2\\share\\julia\\base\\strings\\basic.jl:232\n\u001b[0m  convert(::Type{T}, \u001b[91m::T\u001b[39m) where T at C:\\Users\\fsmart\\AppData\\Local\\Programs\\Julia-1.7.2\\share\\julia\\base\\essentials.jl:218",
     "output_type": "error",
     "traceback": [
      "MethodError: \u001b[0mCannot `convert` an object of type \u001b[92mDate\u001b[39m\u001b[0m to an object of type \u001b[91mString15\u001b[39m\n\u001b[0mClosest candidates are:\n\u001b[0m  convert(::Type{T}, \u001b[91m::T\u001b[39m) where T<:AbstractString at C:\\Users\\fsmart\\AppData\\Local\\Programs\\Julia-1.7.2\\share\\julia\\base\\strings\\basic.jl:231\n\u001b[0m  convert(::Type{T}, \u001b[91m::AbstractString\u001b[39m) where T<:AbstractString at C:\\Users\\fsmart\\AppData\\Local\\Programs\\Julia-1.7.2\\share\\julia\\base\\strings\\basic.jl:232\n\u001b[0m  convert(::Type{T}, \u001b[91m::T\u001b[39m) where T at C:\\Users\\fsmart\\AppData\\Local\\Programs\\Julia-1.7.2\\share\\julia\\base\\essentials.jl:218",
      "",
      "Stacktrace:",
      "  [1] setindex!(A::Vector{String15}, x::Date, i1::Int64)",
      "    @ Base .\\array.jl:903",
      "  [2] macro expansion",
      "    @ .\\multidimensional.jl:910 [inlined]",
      "  [3] macro expansion",
      "    @ .\\cartesian.jl:64 [inlined]",
      "  [4] _unsafe_setindex!",
      "    @ .\\multidimensional.jl:905 [inlined]",
      "  [5] _setindex!",
      "    @ .\\multidimensional.jl:894 [inlined]",
      "  [6] setindex!(A::Vector{String15}, v::Vector{Date}, I::Function)",
      "    @ Base .\\abstractarray.jl:1315",
      "  [7] setindex!(df::DataFrame, v::Vector{Date}, row_inds::Colon, col_ind::String)",
      "    @ DataFrames C:\\Users\\fsmart\\.julia\\packages\\DataFrames\\MA4YO\\src\\dataframe\\dataframe.jl:695",
      "  [8] top-level scope",
      "    @ In[26]:1",
      "  [9] eval",
      "    @ .\\boot.jl:373 [inlined]",
      " [10] include_string(mapexpr::typeof(REPL.softscope), mod::Module, code::String, filename::String)",
      "    @ Base .\\loading.jl:1196"
     ]
    }
   ],
   "source": [
    "inDF[:, \"startDate\"] = [Date(v, dateformat\"mm/dd/yy\") for v in inDF[:, \"startDate\"]]\n",
    "inDF[:, \"endDate\"  ] = [Date(v, dateformat\"mm/dd/yy\") for v in inDF[:, \"endDate\"  ]]\n",
    "\n",
    "inDF2 = inDF[:, [\"id\", \"startDate2\", \"endDate2\", \"text remark\"]]\n",
    "\n",
    "first(inDF2, 5)"
   ]
  },
  {
   "cell_type": "code",
   "execution_count": 6,
   "id": "62c23498",
   "metadata": {},
   "outputs": [
    {
     "name": "stdout",
     "output_type": "stream",
     "text": [
      "1. 7 rows score 5.0\n",
      "2. 7 rows score 5.0\n",
      "3. 7 rows score 5.0\n",
      "4. 7 rows score 4.0\n",
      "5. 7 rows score 5.0\n",
      "6. 7 rows score 5.0\n",
      "7. 7 rows score 5.0\n",
      "8. 1 rows score 5.0\n",
      "9. 7 rows score 5.0\n",
      "10. 7 rows score 3.0\n",
      "11. 7 rows score 5.0\n",
      "12. 7 rows score 3.3\n",
      "13. 7 rows score 5.0\n",
      "14. 7 rows score 5.0\n",
      "15. 1 rows score -5.0\n",
      "16. 4 rows score 5.0\n",
      "17. 7 rows score 2.0\n",
      "18. 7 rows score 5.0\n",
      "19. 7 rows score 5.0\n",
      "20. 7 rows score 3.7\n",
      "21. 6 rows score 5.0\n",
      "22. 7 rows score 5.0\n",
      "23. 5 rows score 4.0\n",
      "24. 7 rows score 5.0\n",
      "25. 7 rows score 5.0\n",
      "26. 7 rows score 5.0\n",
      "27. 6 rows score 5.0\n",
      "28. 7 rows score 5.0\n",
      "29. 7 rows score 5.0\n",
      "30. 7 rows score 5.0\n",
      "31. 4 rows score 5.0\n",
      "32. 7 rows score 5.3\n",
      "33. 4 rows score 5.0\n",
      "34. 7 rows score 4.0\n",
      "35. 7 rows score 5.0\n",
      "36. 6 rows score 4.0\n",
      "37. 1 rows score 5.0\n",
      "38. 2 rows score 4.0\n",
      "39. 7 rows score 5.0\n",
      "40. 7 rows score 5.0\n",
      "41. 7 rows score 5.0\n",
      "42. 7 rows score 5.0\n",
      "43. 1 rows score 5.0\n",
      "44. 7 rows score 5.0\n",
      "45. 7 rows score 5.0\n",
      "46. 7 rows score 5.0\n",
      "47. 7 rows score 3.7\n",
      "48. 5 rows score 5.0\n",
      "49. 7 rows score 4.0\n",
      "50. 7 rows score 4.0\n",
      "51. 7 rows score 5.0\n",
      "52. 7 rows score 3.1\n",
      "53. 7 rows score 5.0\n",
      "54. 7 rows score 5.0\n",
      "55. 7 rows score 3.6\n",
      "56. 7 rows score 2.0\n",
      "57. 7 rows score 5.0\n",
      "58. 7 rows score 5.0\n",
      "59. 7 rows score 3.0\n",
      "60. 2 rows score 5.0\n",
      "61. 7 rows score 3.0\n",
      "62. 7 rows score 2.0\n",
      "63. 7 rows score 5.0\n",
      "64. 7 rows score 4.0\n",
      "65. 7 rows score 5.0\n",
      "66. 7 rows score 5.0\n",
      "67. 2 rows score 5.0\n",
      "68. 7 rows score 5.0\n",
      "69. 7 rows score 5.0\n",
      "70. 5 rows score 3.0\n",
      "71. 7 rows score 4.0\n",
      "72. 2 rows score 5.0\n",
      "73. 7 rows score 5.0\n",
      "74. 1 rows score 5.0\n",
      "75. 7 rows score 5.0\n",
      "76. 2 rows score 5.0\n",
      "77. 4 rows score 4.0\n",
      "78. 4 rows score 3.2\n",
      "79. 7 rows score 5.4\n",
      "80. 7 rows score 5.0\n",
      "81. 7 rows score 3.0\n",
      "82. 7 rows score 5.3\n",
      "83. 7 rows score 4.0\n",
      "84. 5 rows score 5.0\n",
      "85. 2 rows score 5.0\n",
      "86. 7 rows score 5.0\n",
      "87. 7 rows score 5.0\n",
      "88. 2 rows score 4.0\n",
      "89. 7 rows score 3.0\n",
      "90. 7 rows score 2.3\n",
      "91. 4 rows score 5.0\n",
      "92. 7 rows score 4.0\n",
      "93. 7 rows score 5.0\n",
      "94. 7 rows score 4.0\n",
      "95. 7 rows score 5.0\n",
      "96. 7 rows score 5.0\n",
      "97. 7 rows score 5.0\n",
      "98. 7 rows score 5.0\n",
      "99. 4 rows score 5.0\n",
      "100. 7 rows score 5.0\n",
      "101. 3 rows score 5.0\n",
      "102. 3 rows score 5.0\n",
      "103. 3 rows score 5.0\n",
      "104. 14 rows score -2.5\n",
      "105. 7 rows score -5.0\n",
      "106. 7 rows score -5.0\n",
      "107. 7 rows score -1.1\n",
      "108. 8 rows score 2.4\n",
      "109. 8 rows score 2.4\n",
      "110. 8 rows score 3.4\n",
      "111. 4 rows score 2.8\n",
      "112. 8 rows score 3.4\n",
      "113. 7 rows score 1.0\n",
      "114. 4 rows score 1.2\n",
      "115. 5 rows score 1.6\n",
      "116. 7 rows score 5.6\n",
      "117. 7 rows score 1.7\n",
      "118. 7 rows score 2.0\n",
      "119. 7 rows score 2.6\n",
      "120. 7 rows score 3.0\n",
      "121. 7 rows score 3.0\n",
      "122. 7 rows score 3.0\n",
      "123. 7 rows score 4.0\n",
      "124. 7 rows score 4.0\n",
      "125. 7 rows score 2.7\n",
      "126. 7 rows score 5.0\n",
      "127. 7 rows score 5.0\n",
      "128. 7 rows score 5.0\n",
      "129. 7 rows score 4.7\n",
      "130. 7 rows score 4.7\n",
      "131. 7 rows score 3.4\n",
      "132. 7 rows score 4.0\n",
      "133. 6 rows score 4.0\n",
      "134. 3 rows score 4.0\n",
      "135. 7 rows score 3.3\n",
      "136. 7 rows score 4.3\n",
      "137. 7 rows score 3.0\n",
      "138. 4 rows score 2.5\n",
      "139. 7 rows score 3.7\n",
      "140. 7 rows score 3.7\n",
      "141. 7 rows score 3.0\n",
      "142. 7 rows score 3.0\n",
      "143. 7 rows score 3.0\n",
      "144. 14 rows score 0.6\n",
      "145. 3 rows score 1.7\n",
      "146. 8 rows score 2.4\n",
      "147. 7 rows score 5.4\n",
      "148. 7 rows score 3.9\n",
      "149. 7 rows score 2.6\n",
      "150. 7 rows score 3.9\n",
      "151. 5 rows score 3.0\n",
      "152. 14 rows score 0.9\n",
      "153. 9 rows score 2.9\n",
      "154. 13 rows score 1.5\n",
      "155. 8 rows score 2.8\n",
      "156. 7 rows score 4.4\n",
      "157. 7 rows score 4.1\n",
      "158. 6 rows score 4.7\n",
      "159. 1 rows score 2.0\n",
      "160. 7 rows score 0.0\n",
      "161. 7 rows score 1.0\n",
      "162. 7 rows score 1.0\n",
      "163. 7 rows score 1.0\n",
      "164. 7 rows score 5.3\n",
      "165. 7 rows score 5.3\n",
      "166. 7 rows score 7.0\n",
      "167. 7 rows score 5.0\n",
      "168. 5 rows score -4.4\n",
      "169. 7 rows score -5.0\n",
      "170. 1 rows score -5.0\n",
      "171. 7 rows score 3.7\n",
      "172. 7 rows score 3.9\n",
      "173. 7 rows score 5.3\n",
      "174. 4 rows score -0.5\n",
      "175. 14 rows score -2.5\n",
      "176. 7 rows score 3.6\n",
      "177. 7 rows score 3.1\n",
      "178. 1 rows score 5.0\n",
      "179. 1 rows score 5.0\n",
      "180. 5 rows score 5.0\n",
      "181. 7 rows score 3.6\n",
      "182. 7 rows score 3.0\n"
     ]
    }
   ],
   "source": [
    "# Create an empty DataFrame\n",
    "dfout = DataFrame()\n",
    "for i in 1:size(inDF2, 1)\n",
    "    dftemp = blockdate(inDF2[i, \"text remark\"], dtstart = inDF[i, \"startDate\"], dtend = inDF[i, \"endDate\"])\n",
    "\n",
    "    println(\"$(i). $(size(dftemp, 1)) rows score $(round(dftemp.score[1], digits = 1))\")\n",
    "\n",
    "    dfout = [dfout; dftemp]\n",
    "end"
   ]
  }
 ],
 "metadata": {
  "kernelspec": {
   "display_name": "Julia 1.7.2",
   "language": "julia",
   "name": "julia-1.7"
  },
  "language_info": {
   "file_extension": ".jl",
   "mimetype": "application/julia",
   "name": "julia",
   "version": "1.7.2"
  }
 },
 "nbformat": 4,
 "nbformat_minor": 5
}
